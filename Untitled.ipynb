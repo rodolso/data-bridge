{
 "cells": [
  {
   "cell_type": "code",
   "execution_count": null,
   "id": "69108e5e-c714-43e2-bbdd-c1bb21ec823a",
   "metadata": {},
   "outputs": [],
   "source": [
    "python manage.py shell < script_name.py"
   ]
  },
  {
   "cell_type": "code",
   "execution_count": 41,
   "id": "665eea30-6417-4d0e-b097-a68c8e7bfa93",
   "metadata": {},
   "outputs": [],
   "source": [
    "import pandas as pd\n",
    "from fullstack_communication.models import *\n",
    "\n",
    "\n",
    "companies = pd.read_excel('ddbb_thebridge.xlsx', sheet_name='companies')\n",
    "companies_dict = companies.to_dict(orient='records')\n",
    "\n",
    "for row in companies:\n",
    "    insert =  Companies(**row)\n",
    "    insert.save()\n",
    "\n",
    "\n",
    "formularios = pd.read_excel('ddbb_thebridge.xlsx', sheet_name='formularios')\n",
    "formularios['datetime'] = formularios['datetime'].astype(str)\n",
    "formularios_dict = formularios.to_dict(orient='records')\n",
    "\n",
    "for row in formularios_dict:\n",
    "    row['company_name'] = Companies.objects.filter(company_name=row['company_name'])[0]\n",
    "    insert =  Formularios(**row)\n",
    "    insert.save()"
   ]
  },
  {
   "cell_type": "code",
   "execution_count": 46,
   "id": "b2506d03-bfe5-4cd0-a241-097c70dc5c01",
   "metadata": {},
   "outputs": [
    {
     "data": {
      "text/plain": [
       "'yan sa'"
      ]
     },
     "execution_count": 46,
     "metadata": {},
     "output_type": "execute_result"
    }
   ],
   "source": [
    "formularios = pd.read_excel('ddbb_thebridge.xlsx', sheet_name='formularios')\n",
    "formularios['datetime'] = formularios['datetime'].astype(str)\n",
    "formularios_dict = formularios.to_dict(orient='records')\n",
    "\n",
    "for row in formularios_dict:\n",
    "    pass\n",
    "\n",
    "row['company_name']"
   ]
  },
  {
   "cell_type": "code",
   "execution_count": 49,
   "id": "c48669f1-b472-4da3-aad1-d1bce0769a04",
   "metadata": {},
   "outputs": [
    {
     "data": {
      "text/plain": [
       "{'employee_id': 2,\n",
       " 'question_id': 21,\n",
       " 'score': 8,\n",
       " 'company_name': 'yan sa',\n",
       " 'datetime': '2018-05-04 20:32:01'}"
      ]
     },
     "execution_count": 49,
     "metadata": {},
     "output_type": "execute_result"
    }
   ],
   "source": [
    "row"
   ]
  },
  {
   "cell_type": "code",
   "execution_count": null,
   "id": "c3a99ca8-50de-42c6-8ff2-8427c2f1b3d5",
   "metadata": {},
   "outputs": [],
   "source": []
  }
 ],
 "metadata": {
  "kernelspec": {
   "display_name": "Python 3 (ipykernel)",
   "language": "python",
   "name": "python3"
  },
  "language_info": {
   "codemirror_mode": {
    "name": "ipython",
    "version": 3
   },
   "file_extension": ".py",
   "mimetype": "text/x-python",
   "name": "python",
   "nbconvert_exporter": "python",
   "pygments_lexer": "ipython3",
   "version": "3.9.12"
  }
 },
 "nbformat": 4,
 "nbformat_minor": 5
}
