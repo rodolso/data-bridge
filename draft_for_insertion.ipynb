{
 "cells": [
  {
   "cell_type": "code",
   "execution_count": null,
   "id": "69108e5e-c714-43e2-bbdd-c1bb21ec823a",
   "metadata": {},
   "outputs": [],
   "source": [
    "python manage.py shell < script_name.py"
   ]
  },
  {
   "cell_type": "code",
   "execution_count": 1,
   "id": "68dae5ef-d1d8-41d4-b35b-e9a012851848",
   "metadata": {},
   "outputs": [
    {
     "data": {
      "text/plain": [
       "0"
      ]
     },
     "execution_count": 1,
     "metadata": {},
     "output_type": "execute_result"
    }
   ],
   "source": [
    "import os\n",
    "\n",
    "os.system('rm fullstack_communication/migrations/000*')\n",
    "os.system('rm db.sqlite3')\n",
    "os.system('python manage.py makemigrations')\n",
    "os.system('python manage.py migrate')"
   ]
  },
  {
   "cell_type": "code",
   "execution_count": 41,
   "id": "665eea30-6417-4d0e-b097-a68c8e7bfa93",
   "metadata": {},
   "outputs": [],
   "source": [
    "import pandas as pd\n",
    "from django.db.models.base import ModelBase\n",
    "from fullstack_communication.models import *\n",
    "\n",
    "def insert(row: dict, model_class: ModelBase):\n",
    "    \"\"\"\n",
    "    Insert a row in a table\n",
    "    \n",
    "    param row: A dictionary with all the necesary columns to insert\n",
    "    param model_class: The class corresponding to the table model\n",
    "    \"\"\"\n",
    "    insert = model_class(**row)\n",
    "    insert.save()\n",
    "    \n",
    "[q.delete() for q in Companies.objects.all()]\n",
    "[q.delete() for q in Formularios.objects.all()]\n",
    "    \n",
    "companies = pd.read_excel('ddbb_thebridge.xlsx', sheet_name='companies')\n",
    "companies_dict = companies.to_dict(orient='records')\n",
    "\n",
    "for row in companies_dict:\n",
    "    insert(row, Companies)\n",
    "\n",
    "formularios = pd.read_excel('ddbb_thebridge.xlsx', sheet_name='formularios')\n",
    "formularios['datetime'] = formularios['datetime'].astype(str)\n",
    "formularios_dict = formularios.to_dict(orient='records')\n",
    "\n",
    "for row in formularios_dict:\n",
    "    row['company_name'] = Companies.objects.filter(company_name=row['company_name']).first()\n",
    "    insert(row, Formularios)\n",
    "    \n",
    "print(Formularios.objects.all())"
   ]
  },
  {
   "cell_type": "code",
   "execution_count": null,
   "id": "c3a99ca8-50de-42c6-8ff2-8427c2f1b3d5",
   "metadata": {},
   "outputs": [],
   "source": []
  }
 ],
 "metadata": {
  "kernelspec": {
   "display_name": "Python 3 (ipykernel)",
   "language": "python",
   "name": "python3"
  },
  "language_info": {
   "codemirror_mode": {
    "name": "ipython",
    "version": 3
   },
   "file_extension": ".py",
   "mimetype": "text/x-python",
   "name": "python",
   "nbconvert_exporter": "python",
   "pygments_lexer": "ipython3",
   "version": "3.9.12"
  }
 },
 "nbformat": 4,
 "nbformat_minor": 5
}
